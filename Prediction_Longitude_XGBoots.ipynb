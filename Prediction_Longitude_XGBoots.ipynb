{
  "metadata": {
    "kernelspec": {
      "name": "python3",
      "display_name": "Python 3",
      "language": "python"
    },
    "language_info": {
      "name": "python",
      "version": "3.6.8",
      "mimetype": "text/x-python",
      "codemirror_mode": {
        "name": "ipython",
        "version": 3
      },
      "pygments_lexer": "ipython3",
      "nbconvert_exporter": "python",
      "file_extension": ".py"
    },
    "name": "Predicting lonEnd in Latitude_Prediction_Dataset",
    "modifiedBy": "admin"
  },
  "nbformat": 4,
  "nbformat_minor": 1,
  "cells": [
    {
      "cell_type": "markdown",
      "metadata": {},
      "source": [
        "# Predicting lonEnd in Latitude_Prediction_Dataset"
      ]
    },
    {
      "cell_type": "markdown",
      "metadata": {},
      "source": [
        "### Notebook automatically generated from your model"
      ]
    },
    {
      "cell_type": "markdown",
      "metadata": {},
      "source": [
        "Model XGBoost, trained on 2022-06-16 06:24:23."
      ]
    },
    {
      "cell_type": "markdown",
      "metadata": {},
      "source": [
        "#### Generated on 2022-06-16 06:31:13.976948"
      ]
    },
    {
      "cell_type": "markdown",
      "metadata": {},
      "source": [
        "prediction\nThis notebook will reproduce the steps for a REGRESSION on  Latitude_Prediction_Dataset.\nThe main objective is to predict the variable lonEnd"
      ]
    },
    {
      "cell_type": "markdown",
      "metadata": {},
      "source": [
        "#### Warning"
      ]
    },
    {
      "cell_type": "markdown",
      "metadata": {},
      "source": [
        "The goal of this notebook is to provide an easily readable and explainable code that reproduces the main steps\nof training the model. It is not complete: some of the preprocessing done by the DSS visual machine learning is not\nreplicated in this notebook. This notebook will not give the same results and model performance as the DSS visual machine\nlearning model."
      ]
    },
    {
      "cell_type": "markdown",
      "metadata": {},
      "source": [
        "Let\u0027s start with importing the required libs :"
      ]
    },
    {
      "execution_count": 16,
      "cell_type": "code",
      "metadata": {},
      "source": [
        "import sys\nimport dataiku\nimport numpy as np\nimport pandas as pd\nimport sklearn as sk\nimport dataiku.core.pandasutils as pdu\nfrom dataiku.doctor.preprocessing import PCA\nfrom collections import defaultdict, Counter"
      ],
      "outputs": []
    },
    {
      "cell_type": "markdown",
      "metadata": {},
      "source": [
        "And tune pandas display options:"
      ]
    },
    {
      "execution_count": 17,
      "cell_type": "code",
      "metadata": {},
      "source": [
        "pd.set_option(\u0027display.width\u0027, 3000)\npd.set_option(\u0027display.max_rows\u0027, 200)\npd.set_option(\u0027display.max_columns\u0027, 200)"
      ],
      "outputs": []
    },
    {
      "cell_type": "markdown",
      "metadata": {},
      "source": [
        "#### Importing base data"
      ]
    },
    {
      "cell_type": "markdown",
      "metadata": {},
      "source": [
        "The first step is to get our machine learning dataset:"
      ]
    },
    {
      "execution_count": 18,
      "cell_type": "code",
      "metadata": {},
      "source": [
        "# We apply the preparation that you defined. You should not modify this.\npreparation_steps \u003d []\npreparation_output_schema \u003d {\u0027columns\u0027: [{\u0027name\u0027: \u0027ID\u0027, \u0027type\u0027: \u0027bigint\u0027}, {\u0027name\u0027: \u0027eventTimeStart\u0027, \u0027type\u0027: \u0027string\u0027}, {\u0027name\u0027: \u0027eventTimeEnd\u0027, \u0027type\u0027: \u0027string\u0027}, {\u0027name\u0027: \u0027latStart\u0027, \u0027type\u0027: \u0027double\u0027}, {\u0027name\u0027: \u0027lonStart\u0027, \u0027type\u0027: \u0027double\u0027}, {\u0027name\u0027: \u0027latEnd\u0027, \u0027type\u0027: \u0027double\u0027}, {\u0027name\u0027: \u0027lonEnd\u0027, \u0027type\u0027: \u0027double\u0027}, {\u0027name\u0027: \u0027prediction\u0027, \u0027type\u0027: \u0027double\u0027}, {\u0027name\u0027: \u0027error\u0027, \u0027type\u0027: \u0027double\u0027}, {\u0027name\u0027: \u0027error_decile\u0027, \u0027type\u0027: \u0027bigint\u0027}, {\u0027name\u0027: \u0027abs_error_decile\u0027, \u0027type\u0027: \u0027bigint\u0027}, {\u0027name\u0027: \u0027relative_error\u0027, \u0027type\u0027: \u0027double\u0027}], \u0027userModified\u0027: False}\n\nml_dataset_handle \u003d dataiku.Dataset(\u0027Latitude_Prediction_Dataset\u0027)\nml_dataset_handle.set_preparation_steps(preparation_steps, preparation_output_schema)\n%time ml_dataset \u003d ml_dataset_handle.get_dataframe(limit \u003d 100000)\n\nprint (\u0027Base data has %i rows and %i columns\u0027 % (ml_dataset.shape[0], ml_dataset.shape[1]))\n# Five first records\",\nml_dataset.head(5)"
      ],
      "outputs": [
        {
          "output_type": "stream",
          "text": "CPU times: user 20.3 ms, sys: 4.4 ms, total: 24.7 ms\nWall time: 124 ms\nBase data has 1537 rows and 12 columns\n",
          "name": "stdout"
        },
        {
          "output_type": "execute_result",
          "execution_count": 18,
          "data": {
            "text/plain": "     ID       eventTimeStart         eventTimeEnd   latStart  lonStart     latEnd    lonEnd  prediction     error  error_decile  abs_error_decile  relative_error\n0   162  2017-03-22 16:50:25  2017-03-22 17:14:26  38.773537 -9.168737  38.765220 -9.098054   38.782147  0.016927             5                 1        0.000437\n1   136  2017-05-24 12:20:56  2017-05-24 12:21:02  47.409291  8.546942  47.423743  8.555213   47.423532 -0.000211             4                 0       -0.000004\n2   589  2017-05-24 12:21:08  2017-05-24 12:21:13  47.409291  8.546942  47.423743  8.555213   47.423532 -0.000211             4                 0       -0.000004\n3  1505  2017-05-24 12:21:17  2017-05-24 12:21:21  47.409291  8.546942  47.423743  8.555213   47.423532 -0.000211             4                 0       -0.000004\n4   524  2017-05-24 12:21:24  2017-05-24 12:21:31  47.409291  8.546942  47.423743  8.555213   47.423532 -0.000211             4                 0       -0.000004",
            "text/html": "\n            \u003cbutton style\u003d\"display:none\" \n            class\u003d\"btn btn-default ipython-export-btn\" \n            id\u003d\"btn-df-cd5c68d5-a290-4dd9-9f53-797fd79d1b1a\" \n            onclick\u003d\"_export_df(\u0027cd5c68d5-a290-4dd9-9f53-797fd79d1b1a\u0027)\"\u003e\n                Export dataframe\n            \u003c/button\u003e\n            \n            \u003cscript\u003e\n                \n                function _check_export_df_possible(dfid,yes_fn,no_fn) {\n                    console.log(\u0027Checking dataframe exportability...\u0027)\n                    if(!IPython || !IPython.notebook || !IPython.notebook.kernel || !IPython.notebook.kernel) {\n                        console.log(\u0027Export is not possible (IPython kernel is not available)\u0027)\n                        if(no_fn) {\n                            no_fn();\n                        }\n                    } else {\n                        var pythonCode \u003d \u0027from dataiku.notebook.export import IPythonExporter;IPythonExporter._check_export_stdout(\"\u0027+dfid+\u0027\")\u0027;\n                        IPython.notebook.kernel.execute(pythonCode,{iopub: {output: function(resp) {\n                            console.info(\"Exportability response\", resp);\n                            var size \u003d /^([0-9]+)x([0-9]+)$/.exec(resp.content.data || resp.content.text)\n                            if(!size) {\n                                console.log(\u0027Export is not possible (dataframe is not in-memory anymore)\u0027)\n                                if(no_fn) {\n                                    no_fn();\n                                }\n                            } else {\n                                console.log(\u0027Export is possible\u0027)\n                                if(yes_fn) {\n                                    yes_fn(1*size[1],1*size[2]);\n                                }\n                            }\n                        }}});\n                    }\n                }\n            \n                function _export_df(dfid) {\n                    \n                    var btn \u003d $(\u0027#btn-df-\u0027+dfid);\n                    var btns \u003d $(\u0027.ipython-export-btn\u0027);\n                    \n                    _check_export_df_possible(dfid,function() {\n                        \n                        window.parent.openExportModalFromIPython(\u0027Pandas dataframe\u0027,function(data) {\n                            btns.prop(\u0027disabled\u0027,true);\n                            btn.text(\u0027Exporting...\u0027);\n                            var command \u003d \u0027from dataiku.notebook.export import IPythonExporter;IPythonExporter._run_export(\"\u0027+dfid+\u0027\",\"\u0027+data.exportId+\u0027\")\u0027;\n                            var callback \u003d {iopub:{output: function(resp) {\n                                console.info(\"CB resp:\", resp);\n                                _check_export_df_possible(dfid,function(rows, cols) {\n                                    $(\u0027#btn-df-\u0027+dfid)\n                                        .css(\u0027display\u0027,\u0027inline-block\u0027)\n                                        .text(\u0027Export this dataframe (\u0027+rows+\u0027 rows, \u0027+cols+\u0027 cols)\u0027)\n                                        .prop(\u0027disabled\u0027,false);\n                                },function() {\n                                    $(\u0027#btn-df-\u0027+dfid).css(\u0027display\u0027,\u0027none\u0027);\n                                });\n                            }}};\n                            IPython.notebook.kernel.execute(command,callback,{silent:false}); // yes, silent now defaults to true. figures.\n                        });\n                    \n                    }, function(){\n                            alert(\u0027Unable to export : the Dataframe object is not loaded in memory\u0027);\n                            btn.css(\u0027display\u0027,\u0027none\u0027);\n                    });\n                    \n                }\n                \n                (function(dfid) {\n                \n                    var retryCount \u003d 10;\n                \n                    function is_valid_websock(s) {\n                        return s \u0026\u0026 s.readyState\u003d\u003d1;\n                    }\n                \n                    function check_conn() {\n                        \n                        if(!IPython || !IPython.notebook) {\n                            // Don\u0027t even try to go further\n                            return;\n                        }\n                        \n                        // Check if IPython is ready\n                        console.info(\"Checking conn ...\")\n                        if(IPython.notebook.kernel\n                        \u0026\u0026 IPython.notebook.kernel\n                        \u0026\u0026 is_valid_websock(IPython.notebook.kernel.ws)\n                        ) {\n                            \n                            _check_export_df_possible(dfid,function(rows, cols) {\n                                $(\u0027#btn-df-\u0027+dfid).css(\u0027display\u0027,\u0027inline-block\u0027);\n                                $(\u0027#btn-df-\u0027+dfid).text(\u0027Export this dataframe (\u0027+rows+\u0027 rows, \u0027+cols+\u0027 cols)\u0027);\n                            });\n                            \n                        } else {\n                            console.info(\"Conditions are not ok\", IPython.notebook.kernel);\n                            \n                            // Retry later\n                            \n                            if(retryCount\u003e0) {\n                                setTimeout(check_conn,500);\n                                retryCount--;\n                            }\n                            \n                        }\n                    };\n                    \n                    setTimeout(check_conn,100);\n                    \n                })(\"cd5c68d5-a290-4dd9-9f53-797fd79d1b1a\");\n                \n            \u003c/script\u003e\n            \n        \u003cdiv\u003e\n\u003cstyle scoped\u003e\n    .dataframe tbody tr th:only-of-type {\n        vertical-align: middle;\n    }\n\n    .dataframe tbody tr th {\n        vertical-align: top;\n    }\n\n    .dataframe thead th {\n        text-align: right;\n    }\n\u003c/style\u003e\n\u003ctable border\u003d\"1\" class\u003d\"dataframe\"\u003e\n  \u003cthead\u003e\n    \u003ctr style\u003d\"text-align: right;\"\u003e\n      \u003cth\u003e\u003c/th\u003e\n      \u003cth\u003eID\u003c/th\u003e\n      \u003cth\u003eeventTimeStart\u003c/th\u003e\n      \u003cth\u003eeventTimeEnd\u003c/th\u003e\n      \u003cth\u003elatStart\u003c/th\u003e\n      \u003cth\u003elonStart\u003c/th\u003e\n      \u003cth\u003elatEnd\u003c/th\u003e\n      \u003cth\u003elonEnd\u003c/th\u003e\n      \u003cth\u003eprediction\u003c/th\u003e\n      \u003cth\u003eerror\u003c/th\u003e\n      \u003cth\u003eerror_decile\u003c/th\u003e\n      \u003cth\u003eabs_error_decile\u003c/th\u003e\n      \u003cth\u003erelative_error\u003c/th\u003e\n    \u003c/tr\u003e\n  \u003c/thead\u003e\n  \u003ctbody\u003e\n    \u003ctr\u003e\n      \u003cth\u003e0\u003c/th\u003e\n      \u003ctd\u003e162\u003c/td\u003e\n      \u003ctd\u003e2017-03-22 16:50:25\u003c/td\u003e\n      \u003ctd\u003e2017-03-22 17:14:26\u003c/td\u003e\n      \u003ctd\u003e38.773537\u003c/td\u003e\n      \u003ctd\u003e-9.168737\u003c/td\u003e\n      \u003ctd\u003e38.765220\u003c/td\u003e\n      \u003ctd\u003e-9.098054\u003c/td\u003e\n      \u003ctd\u003e38.782147\u003c/td\u003e\n      \u003ctd\u003e0.016927\u003c/td\u003e\n      \u003ctd\u003e5\u003c/td\u003e\n      \u003ctd\u003e1\u003c/td\u003e\n      \u003ctd\u003e0.000437\u003c/td\u003e\n    \u003c/tr\u003e\n    \u003ctr\u003e\n      \u003cth\u003e1\u003c/th\u003e\n      \u003ctd\u003e136\u003c/td\u003e\n      \u003ctd\u003e2017-05-24 12:20:56\u003c/td\u003e\n      \u003ctd\u003e2017-05-24 12:21:02\u003c/td\u003e\n      \u003ctd\u003e47.409291\u003c/td\u003e\n      \u003ctd\u003e8.546942\u003c/td\u003e\n      \u003ctd\u003e47.423743\u003c/td\u003e\n      \u003ctd\u003e8.555213\u003c/td\u003e\n      \u003ctd\u003e47.423532\u003c/td\u003e\n      \u003ctd\u003e-0.000211\u003c/td\u003e\n      \u003ctd\u003e4\u003c/td\u003e\n      \u003ctd\u003e0\u003c/td\u003e\n      \u003ctd\u003e-0.000004\u003c/td\u003e\n    \u003c/tr\u003e\n    \u003ctr\u003e\n      \u003cth\u003e2\u003c/th\u003e\n      \u003ctd\u003e589\u003c/td\u003e\n      \u003ctd\u003e2017-05-24 12:21:08\u003c/td\u003e\n      \u003ctd\u003e2017-05-24 12:21:13\u003c/td\u003e\n      \u003ctd\u003e47.409291\u003c/td\u003e\n      \u003ctd\u003e8.546942\u003c/td\u003e\n      \u003ctd\u003e47.423743\u003c/td\u003e\n      \u003ctd\u003e8.555213\u003c/td\u003e\n      \u003ctd\u003e47.423532\u003c/td\u003e\n      \u003ctd\u003e-0.000211\u003c/td\u003e\n      \u003ctd\u003e4\u003c/td\u003e\n      \u003ctd\u003e0\u003c/td\u003e\n      \u003ctd\u003e-0.000004\u003c/td\u003e\n    \u003c/tr\u003e\n    \u003ctr\u003e\n      \u003cth\u003e3\u003c/th\u003e\n      \u003ctd\u003e1505\u003c/td\u003e\n      \u003ctd\u003e2017-05-24 12:21:17\u003c/td\u003e\n      \u003ctd\u003e2017-05-24 12:21:21\u003c/td\u003e\n      \u003ctd\u003e47.409291\u003c/td\u003e\n      \u003ctd\u003e8.546942\u003c/td\u003e\n      \u003ctd\u003e47.423743\u003c/td\u003e\n      \u003ctd\u003e8.555213\u003c/td\u003e\n      \u003ctd\u003e47.423532\u003c/td\u003e\n      \u003ctd\u003e-0.000211\u003c/td\u003e\n      \u003ctd\u003e4\u003c/td\u003e\n      \u003ctd\u003e0\u003c/td\u003e\n      \u003ctd\u003e-0.000004\u003c/td\u003e\n    \u003c/tr\u003e\n    \u003ctr\u003e\n      \u003cth\u003e4\u003c/th\u003e\n      \u003ctd\u003e524\u003c/td\u003e\n      \u003ctd\u003e2017-05-24 12:21:24\u003c/td\u003e\n      \u003ctd\u003e2017-05-24 12:21:31\u003c/td\u003e\n      \u003ctd\u003e47.409291\u003c/td\u003e\n      \u003ctd\u003e8.546942\u003c/td\u003e\n      \u003ctd\u003e47.423743\u003c/td\u003e\n      \u003ctd\u003e8.555213\u003c/td\u003e\n      \u003ctd\u003e47.423532\u003c/td\u003e\n      \u003ctd\u003e-0.000211\u003c/td\u003e\n      \u003ctd\u003e4\u003c/td\u003e\n      \u003ctd\u003e0\u003c/td\u003e\n      \u003ctd\u003e-0.000004\u003c/td\u003e\n    \u003c/tr\u003e\n  \u003c/tbody\u003e\n\u003c/table\u003e\n\u003c/div\u003e"
          },
          "metadata": {}
        }
      ]
    },
    {
      "cell_type": "markdown",
      "metadata": {},
      "source": [
        "#### Initial data management"
      ]
    },
    {
      "cell_type": "markdown",
      "metadata": {},
      "source": [
        "The preprocessing aims at making the dataset compatible with modeling.\nAt the end of this step, we will have a matrix of float numbers, with no missing values.\nWe\u0027ll use the features and the preprocessing steps defined in Models.\n\nLet\u0027s only keep selected features"
      ]
    },
    {
      "execution_count": 19,
      "cell_type": "code",
      "metadata": {},
      "source": [
        "ml_dataset \u003d ml_dataset[[\u0027error_decile\u0027, \u0027latEnd\u0027, \u0027eventTimeEnd\u0027, \u0027latStart\u0027, \u0027lonStart\u0027, \u0027prediction\u0027, \u0027lonEnd\u0027, \u0027eventTimeStart\u0027, \u0027error\u0027, \u0027relative_error\u0027, \u0027abs_error_decile\u0027]]"
      ],
      "outputs": []
    },
    {
      "cell_type": "markdown",
      "metadata": {},
      "source": [
        "Let\u0027s first coerce categorical columns into unicode, numerical features into floats."
      ]
    },
    {
      "execution_count": 20,
      "cell_type": "code",
      "metadata": {},
      "source": [
        "# astype(\u0027unicode\u0027) does not work as expected\n\ndef coerce_to_unicode(x):\n    if sys.version_info \u003c (3, 0):\n        if isinstance(x, str):\n            return unicode(x,\u0027utf-8\u0027)\n        else:\n            return unicode(x)\n    else:\n        return str(x)\n\n\ncategorical_features \u003d [\u0027eventTimeEnd\u0027, \u0027eventTimeStart\u0027]\nnumerical_features \u003d [\u0027error_decile\u0027, \u0027latEnd\u0027, \u0027latStart\u0027, \u0027lonStart\u0027, \u0027prediction\u0027, \u0027error\u0027, \u0027relative_error\u0027, \u0027abs_error_decile\u0027]\ntext_features \u003d []\nfrom dataiku.doctor.utils import datetime_to_epoch\nfor feature in categorical_features:\n    ml_dataset[feature] \u003d ml_dataset[feature].apply(coerce_to_unicode)\nfor feature in text_features:\n    ml_dataset[feature] \u003d ml_dataset[feature].apply(coerce_to_unicode)\nfor feature in numerical_features:\n    if ml_dataset[feature].dtype \u003d\u003d np.dtype(\u0027M8[ns]\u0027) or (hasattr(ml_dataset[feature].dtype, \u0027base\u0027) and ml_dataset[feature].dtype.base \u003d\u003d np.dtype(\u0027M8[ns]\u0027)):\n        ml_dataset[feature] \u003d datetime_to_epoch(ml_dataset[feature])\n    else:\n        ml_dataset[feature] \u003d ml_dataset[feature].astype(\u0027double\u0027)"
      ],
      "outputs": []
    },
    {
      "cell_type": "markdown",
      "metadata": {},
      "source": [
        "We renamed the target variable to a column named target"
      ]
    },
    {
      "execution_count": 21,
      "cell_type": "code",
      "metadata": {},
      "source": [
        "ml_dataset[\u0027__target__\u0027] \u003d ml_dataset[\u0027lonEnd\u0027]\ndel ml_dataset[\u0027lonEnd\u0027]\n\n\n# Remove rows for which the target is unknown.\nml_dataset \u003d ml_dataset[~ml_dataset[\u0027__target__\u0027].isnull()]"
      ],
      "outputs": []
    },
    {
      "cell_type": "markdown",
      "metadata": {},
      "source": [
        "#### Cross-validation strategy"
      ]
    },
    {
      "cell_type": "markdown",
      "metadata": {},
      "source": [
        "The dataset needs to be split into 2 new sets, one that will be used for training the model (train set)\nand another that will be used to test its generalization capability (test set)"
      ]
    },
    {
      "cell_type": "markdown",
      "metadata": {},
      "source": [
        "This is a simple cross-validation strategy."
      ]
    },
    {
      "execution_count": 22,
      "cell_type": "code",
      "metadata": {},
      "source": [
        "train, test \u003d pdu.split_train_valid(ml_dataset, prop\u003d0.8)\nprint (\u0027Train data has %i rows and %i columns\u0027 % (train.shape[0], train.shape[1]))\nprint (\u0027Test data has %i rows and %i columns\u0027 % (test.shape[0], test.shape[1]))"
      ],
      "outputs": [
        {
          "output_type": "stream",
          "text": "Train data has 1229 rows and 11 columns\nTest data has 308 rows and 11 columns\n",
          "name": "stdout"
        }
      ]
    },
    {
      "cell_type": "markdown",
      "metadata": {},
      "source": [
        "#### Features preprocessing"
      ]
    },
    {
      "cell_type": "markdown",
      "metadata": {},
      "source": [
        "The first thing to do at the features level is to handle the missing values.\nLet\u0027s reuse the settings defined in the model"
      ]
    },
    {
      "execution_count": 23,
      "cell_type": "code",
      "metadata": {},
      "source": [
        "drop_rows_when_missing \u003d []\nimpute_when_missing \u003d [{\u0027feature\u0027: \u0027error_decile\u0027, \u0027impute_with\u0027: \u0027MEAN\u0027}, {\u0027feature\u0027: \u0027latEnd\u0027, \u0027impute_with\u0027: \u0027MEAN\u0027}, {\u0027feature\u0027: \u0027latStart\u0027, \u0027impute_with\u0027: \u0027MEAN\u0027}, {\u0027feature\u0027: \u0027lonStart\u0027, \u0027impute_with\u0027: \u0027MEAN\u0027}, {\u0027feature\u0027: \u0027prediction\u0027, \u0027impute_with\u0027: \u0027MEAN\u0027}, {\u0027feature\u0027: \u0027error\u0027, \u0027impute_with\u0027: \u0027MEAN\u0027}, {\u0027feature\u0027: \u0027relative_error\u0027, \u0027impute_with\u0027: \u0027MEAN\u0027}, {\u0027feature\u0027: \u0027abs_error_decile\u0027, \u0027impute_with\u0027: \u0027MEAN\u0027}]\n\n# Features for which we drop rows with missing values\"\nfor feature in drop_rows_when_missing:\n    train \u003d train[train[feature].notnull()]\n    test \u003d test[test[feature].notnull()]\n    print (\u0027Dropped missing records in %s\u0027 % feature)\n\n# Features for which we impute missing values\"\nfor feature in impute_when_missing:\n    if feature[\u0027impute_with\u0027] \u003d\u003d \u0027MEAN\u0027:\n        v \u003d train[feature[\u0027feature\u0027]].mean()\n    elif feature[\u0027impute_with\u0027] \u003d\u003d \u0027MEDIAN\u0027:\n        v \u003d train[feature[\u0027feature\u0027]].median()\n    elif feature[\u0027impute_with\u0027] \u003d\u003d \u0027CREATE_CATEGORY\u0027:\n        v \u003d \u0027NULL_CATEGORY\u0027\n    elif feature[\u0027impute_with\u0027] \u003d\u003d \u0027MODE\u0027:\n        v \u003d train[feature[\u0027feature\u0027]].value_counts().index[0]\n    elif feature[\u0027impute_with\u0027] \u003d\u003d \u0027CONSTANT\u0027:\n        v \u003d feature[\u0027value\u0027]\n    train[feature[\u0027feature\u0027]] \u003d train[feature[\u0027feature\u0027]].fillna(v)\n    test[feature[\u0027feature\u0027]] \u003d test[feature[\u0027feature\u0027]].fillna(v)\n    print (\u0027Imputed missing values in feature %s with value %s\u0027 % (feature[\u0027feature\u0027], coerce_to_unicode(v)))"
      ],
      "outputs": [
        {
          "output_type": "stream",
          "text": "Imputed missing values in feature error_decile with value 4.014646053702197\nImputed missing values in feature latEnd with value 47.235130869812345\nImputed missing values in feature latStart with value 47.221135015461236\n",
          "name": "stdout"
        },
        {
          "output_type": "stream",
          "text": "/home/dataiku/dataiku-dss-9.0.1/python36.packages/ipykernel_launcher.py:23: SettingWithCopyWarning: \nA value is trying to be set on a copy of a slice from a DataFrame.\nTry using .loc[row_indexer,col_indexer] \u003d value instead\n\nSee the caveats in the documentation: http://pandas.pydata.org/pandas-docs/stable/indexing.html#indexing-view-versus-copy\n",
          "name": "stderr"
        },
        {
          "output_type": "stream",
          "text": "Imputed missing values in feature lonStart with value 7.170596254678604\nImputed missing values in feature prediction with value 47.23525367983297\nImputed missing values in feature error with value 0.0001228100207203916\nImputed missing values in feature relative_error with value 5.701174760853472e-06\nImputed missing values in feature abs_error_decile with value 0.043938161106590726\n",
          "name": "stdout"
        }
      ]
    },
    {
      "cell_type": "markdown",
      "metadata": {},
      "source": [
        "We can now handle the categorical features (still using the settings defined in Models):"
      ]
    },
    {
      "cell_type": "markdown",
      "metadata": {},
      "source": [
        "Let\u0027s dummy-encode the following features.\nA binary column is created for each of the 100 most frequent values."
      ]
    },
    {
      "execution_count": 24,
      "cell_type": "code",
      "metadata": {},
      "source": [
        "LIMIT_DUMMIES \u003d 100\n\ncategorical_to_dummy_encode \u003d [\u0027eventTimeEnd\u0027, \u0027eventTimeStart\u0027]\n\n# Only keep the top 100 values\ndef select_dummy_values(train, features):\n    dummy_values \u003d {}\n    for feature in categorical_to_dummy_encode:\n        values \u003d [\n            value\n            for (value, _) in Counter(train[feature]).most_common(LIMIT_DUMMIES)\n        ]\n        dummy_values[feature] \u003d values\n    return dummy_values\n\nDUMMY_VALUES \u003d select_dummy_values(train, categorical_to_dummy_encode)\n\ndef dummy_encode_dataframe(df):\n    for (feature, dummy_values) in DUMMY_VALUES.items():\n        for dummy_value in dummy_values:\n            dummy_name \u003d u\u0027%s_value_%s\u0027 % (feature, coerce_to_unicode(dummy_value))\n            df[dummy_name] \u003d (df[feature] \u003d\u003d dummy_value).astype(float)\n        del df[feature]\n        print (\u0027Dummy-encoded feature %s\u0027 % feature)\n\ndummy_encode_dataframe(train)\n\ndummy_encode_dataframe(test)"
      ],
      "outputs": [
        {
          "output_type": "stream",
          "text": "Dummy-encoded feature eventTimeEnd\nDummy-encoded feature eventTimeStart\n",
          "name": "stdout"
        },
        {
          "output_type": "stream",
          "text": "/home/dataiku/dataiku-dss-9.0.1/python36.packages/ipykernel_launcher.py:22: SettingWithCopyWarning: \nA value is trying to be set on a copy of a slice from a DataFrame.\nTry using .loc[row_indexer,col_indexer] \u003d value instead\n\nSee the caveats in the documentation: http://pandas.pydata.org/pandas-docs/stable/indexing.html#indexing-view-versus-copy\n",
          "name": "stderr"
        },
        {
          "output_type": "stream",
          "text": "Dummy-encoded feature eventTimeEnd\nDummy-encoded feature eventTimeStart\n",
          "name": "stdout"
        }
      ]
    },
    {
      "cell_type": "markdown",
      "metadata": {},
      "source": [
        "Let\u0027s rescale numerical features"
      ]
    },
    {
      "execution_count": 25,
      "cell_type": "code",
      "metadata": {},
      "source": [
        "rescale_features \u003d {\u0027error_decile\u0027: \u0027AVGSTD\u0027, \u0027latEnd\u0027: \u0027AVGSTD\u0027, \u0027latStart\u0027: \u0027AVGSTD\u0027, \u0027lonStart\u0027: \u0027AVGSTD\u0027, \u0027prediction\u0027: \u0027AVGSTD\u0027, \u0027error\u0027: \u0027AVGSTD\u0027, \u0027relative_error\u0027: \u0027AVGSTD\u0027, \u0027abs_error_decile\u0027: \u0027AVGSTD\u0027}\nfor (feature_name, rescale_method) in rescale_features.items():\n    if rescale_method \u003d\u003d \u0027MINMAX\u0027:\n        _min \u003d train[feature_name].min()\n        _max \u003d train[feature_name].max()\n        scale \u003d _max - _min\n        shift \u003d _min\n    else:\n        shift \u003d train[feature_name].mean()\n        scale \u003d train[feature_name].std()\n    if scale \u003d\u003d 0.:\n        del train[feature_name]\n        del test[feature_name]\n        print (\u0027Feature %s was dropped because it has no variance\u0027 % feature_name)\n    else:\n        print (\u0027Rescaled %s\u0027 % feature_name)\n        train[feature_name] \u003d (train[feature_name] - shift).astype(np.float64) / scale\n        test[feature_name] \u003d (test[feature_name] - shift).astype(np.float64) / scale"
      ],
      "outputs": [
        {
          "output_type": "stream",
          "text": "Rescaled error_decile\nRescaled latEnd\nRescaled latStart\nRescaled lonStart\nRescaled prediction\n",
          "name": "stdout"
        },
        {
          "output_type": "stream",
          "text": "/home/dataiku/dataiku-dss-9.0.1/python36.packages/ipykernel_launcher.py:18: SettingWithCopyWarning: \nA value is trying to be set on a copy of a slice from a DataFrame.\nTry using .loc[row_indexer,col_indexer] \u003d value instead\n\nSee the caveats in the documentation: http://pandas.pydata.org/pandas-docs/stable/indexing.html#indexing-view-versus-copy\n",
          "name": "stderr"
        },
        {
          "output_type": "stream",
          "text": "Rescaled error\nRescaled relative_error\nRescaled abs_error_decile\n",
          "name": "stdout"
        }
      ]
    },
    {
      "cell_type": "markdown",
      "metadata": {},
      "source": [
        "#### Modeling"
      ]
    },
    {
      "cell_type": "markdown",
      "metadata": {},
      "source": [
        "Before actually creating our model, we need to split the datasets into their features and labels parts:"
      ]
    },
    {
      "execution_count": 26,
      "cell_type": "code",
      "metadata": {},
      "source": [
        "train_X \u003d train.drop(\u0027__target__\u0027, axis\u003d1)\ntest_X \u003d test.drop(\u0027__target__\u0027, axis\u003d1)\n\ntrain_Y \u003d np.array(train[\u0027__target__\u0027])\ntest_Y \u003d np.array(test[\u0027__target__\u0027])"
      ],
      "outputs": []
    },
    {
      "cell_type": "markdown",
      "metadata": {},
      "source": [
        "Now we can finally create our model !"
      ]
    },
    {
      "execution_count": 27,
      "cell_type": "code",
      "metadata": {},
      "source": [
        "import xgboost as xgb\nclf \u003d xgb.XGBRegressor(\n                    max_depth\u003d3,\n                    learning_rate\u003d0.2,\n                    gamma\u003d0.0,\n                    min_child_weight\u003d1.0,\n                    max_delta_step\u003d0.0,\n                    subsample\u003d1.0,\n                    colsample_bytree\u003d1.0,\n                    colsample_bylevel\u003d1.0,\n                    reg_alpha\u003d0.0,\n                    reg_lambda\u003d1.0,\n                    n_estimators\u003d41,\n                    silent\u003d0,\n                    nthread\u003d4,\n                    scale_pos_weight\u003d1.0,\n                    base_score\u003d0.5,\n                    seed\u003d1337,\n                    missing\u003dNone,\n                  )"
      ],
      "outputs": []
    },
    {
      "cell_type": "markdown",
      "metadata": {},
      "source": [
        "... And train it"
      ]
    },
    {
      "execution_count": 28,
      "cell_type": "code",
      "metadata": {},
      "source": [
        "%time clf.fit(train_X, train_Y)"
      ],
      "outputs": [
        {
          "output_type": "stream",
          "text": "/home/dataiku/dataiku-dss-9.0.1/python36.packages/xgboost/sklearn.py:229: DeprecationWarning: The seed parameter is deprecated as of version .6.Please use random_state instead.seed is deprecated.\n  \u0027seed is deprecated.\u0027, DeprecationWarning)\n/home/dataiku/dataiku-dss-9.0.1/python36.packages/xgboost/sklearn.py:236: DeprecationWarning: The nthread parameter is deprecated as of version .6.Please use n_jobs instead.nthread is deprecated.\n  \u0027nthread is deprecated.\u0027, DeprecationWarning)\n",
          "name": "stderr"
        },
        {
          "output_type": "stream",
          "text": "CPU times: user 237 ms, sys: 10.4 ms, total: 247 ms\nWall time: 253 ms\n",
          "name": "stdout"
        },
        {
          "output_type": "execute_result",
          "execution_count": 28,
          "data": {
            "text/plain": "XGBRegressor(base_score\u003d0.5, booster\u003d\u0027gbtree\u0027, colsample_bylevel\u003d1.0,\n       colsample_bytree\u003d1.0, gamma\u003d0.0, importance_type\u003d\u0027gain\u0027,\n       learning_rate\u003d0.2, max_delta_step\u003d0.0, max_depth\u003d3,\n       min_child_weight\u003d1.0, missing\u003dNone, n_estimators\u003d41, n_jobs\u003d1,\n       nthread\u003d4, objective\u003d\u0027reg:linear\u0027, random_state\u003d0, reg_alpha\u003d0.0,\n       reg_lambda\u003d1.0, scale_pos_weight\u003d1.0, seed\u003d1337, silent\u003d0,\n       subsample\u003d1.0)"
          },
          "metadata": {}
        }
      ]
    },
    {
      "cell_type": "markdown",
      "metadata": {},
      "source": [
        "Build up our result dataset"
      ]
    },
    {
      "execution_count": 29,
      "cell_type": "code",
      "metadata": {},
      "source": [
        "%time _predictions \u003d clf.predict(test_X)\npredictions \u003d pd.Series(data\u003d_predictions, index\u003dtest_X.index, name\u003d\u0027predicted_value\u0027)\n\n# Build scored dataset\nresults_test \u003d test_X.join(predictions, how\u003d\u0027left\u0027)\nresults_test \u003d results_test.join(test[\u0027__target__\u0027], how\u003d\u0027left\u0027)\nresults_test \u003d results_test.rename(columns\u003d {\u0027__target__\u0027: \u0027lonEnd\u0027})"
      ],
      "outputs": [
        {
          "output_type": "stream",
          "text": "CPU times: user 7.89 ms, sys: 1.05 ms, total: 8.93 ms\nWall time: 22.4 ms\n",
          "name": "stdout"
        }
      ]
    },
    {
      "cell_type": "markdown",
      "metadata": {},
      "source": [
        "#### Results"
      ]
    },
    {
      "cell_type": "markdown",
      "metadata": {},
      "source": [
        "You can measure the model\u0027s accuracy:"
      ]
    },
    {
      "execution_count": 30,
      "cell_type": "code",
      "metadata": {},
      "source": [
        "c \u003d  results_test[[\u0027predicted_value\u0027, \u0027lonEnd\u0027]].corr()\nprint (\u0027Pearson correlation: %s\u0027 % c[\u0027predicted_value\u0027][1])"
      ],
      "outputs": [
        {
          "output_type": "stream",
          "text": "Pearson correlation: 0.9487876231127037\n",
          "name": "stdout"
        }
      ]
    },
    {
      "cell_type": "markdown",
      "metadata": {},
      "source": [
        "That\u0027s it. It\u0027s now up to you to tune your preprocessing, your algo, and your analysis !\n"
      ]
    }
  ]
}